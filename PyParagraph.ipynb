{
 "cells": [
  {
   "cell_type": "code",
   "execution_count": 22,
   "metadata": {},
   "outputs": [],
   "source": [
    "#Import our text file as a string\n",
    "\n",
    "with open('Adam Wayne Passage.txt', 'r') as file:\n",
    "    passage = file.read().replace('\\n', '')"
   ]
  },
  {
   "cell_type": "code",
   "execution_count": 23,
   "metadata": {},
   "outputs": [
    {
     "data": {
      "text/plain": [
       "\"Adam Wayne, the conqueror, with his face flung back and his mane like a lion's, stood with his great sword point upwards, the red raiment of his office flapping around him like the red wings of an archangel. And the King saw, he knew not how, something new and overwhelming. The great green trees and the great red robes swung together in the wind. The preposterous masquerade, born of his own mockery, towered over him and embraced the world. This was the normal, this was sanity, this was nature, and he himself, with his rationality, and his detachment and his black frock-coat, he was the exception and the accident a blot of black upon a world of crimson and gold.\""
      ]
     },
     "execution_count": 23,
     "metadata": {},
     "output_type": "execute_result"
    }
   ],
   "source": [
    "passage"
   ]
  },
  {
   "cell_type": "code",
   "execution_count": 24,
   "metadata": {},
   "outputs": [
    {
     "data": {
      "text/plain": [
       "120"
      ]
     },
     "execution_count": 24,
     "metadata": {},
     "output_type": "execute_result"
    }
   ],
   "source": [
    "# Word Count\n",
    "\n",
    "split_passage = passage.split()\n",
    "word_count = len(split_passage)\n",
    "word_count"
   ]
  },
  {
   "cell_type": "code",
   "execution_count": 25,
   "metadata": {},
   "outputs": [
    {
     "data": {
      "text/plain": [
       "5"
      ]
     },
     "execution_count": 25,
     "metadata": {},
     "output_type": "execute_result"
    }
   ],
   "source": [
    "# Sentence Count\n",
    "\n",
    "sen_count = passage.count('.')\n",
    "sen_count"
   ]
  },
  {
   "cell_type": "code",
   "execution_count": 29,
   "metadata": {},
   "outputs": [
    {
     "data": {
      "text/plain": [
       "['Adam',\n",
       " 'Wayne,',\n",
       " 'the',\n",
       " 'conqueror,',\n",
       " 'with',\n",
       " 'his',\n",
       " 'face',\n",
       " 'flung',\n",
       " 'back',\n",
       " 'and',\n",
       " 'his',\n",
       " 'mane',\n",
       " 'like',\n",
       " 'a',\n",
       " \"lion's,\",\n",
       " 'stood',\n",
       " 'with',\n",
       " 'his',\n",
       " 'great',\n",
       " 'sword',\n",
       " 'point',\n",
       " 'upwards,',\n",
       " 'the',\n",
       " 'red',\n",
       " 'raiment',\n",
       " 'of',\n",
       " 'his',\n",
       " 'office',\n",
       " 'flapping',\n",
       " 'around',\n",
       " 'him',\n",
       " 'like',\n",
       " 'the',\n",
       " 'red',\n",
       " 'wings',\n",
       " 'of',\n",
       " 'an',\n",
       " 'archangel.',\n",
       " 'And',\n",
       " 'the',\n",
       " 'King',\n",
       " 'saw,',\n",
       " 'he',\n",
       " 'knew',\n",
       " 'not',\n",
       " 'how,',\n",
       " 'something',\n",
       " 'new',\n",
       " 'and',\n",
       " 'overwhelming.',\n",
       " 'The',\n",
       " 'great',\n",
       " 'green',\n",
       " 'trees',\n",
       " 'and',\n",
       " 'the',\n",
       " 'great',\n",
       " 'red',\n",
       " 'robes',\n",
       " 'swung',\n",
       " 'together',\n",
       " 'in',\n",
       " 'the',\n",
       " 'wind.',\n",
       " 'The',\n",
       " 'preposterous',\n",
       " 'masquerade,',\n",
       " 'born',\n",
       " 'of',\n",
       " 'his',\n",
       " 'own',\n",
       " 'mockery,',\n",
       " 'towered',\n",
       " 'over',\n",
       " 'him',\n",
       " 'and',\n",
       " 'embraced',\n",
       " 'the',\n",
       " 'world.',\n",
       " 'This',\n",
       " 'was',\n",
       " 'the',\n",
       " 'normal,',\n",
       " 'this',\n",
       " 'was',\n",
       " 'sanity,',\n",
       " 'this',\n",
       " 'was',\n",
       " 'nature,',\n",
       " 'and',\n",
       " 'he',\n",
       " 'himself,',\n",
       " 'with',\n",
       " 'his',\n",
       " 'rationality,',\n",
       " 'and',\n",
       " 'his',\n",
       " 'detachment',\n",
       " 'and',\n",
       " 'his',\n",
       " 'black',\n",
       " 'frock-coat,',\n",
       " 'he',\n",
       " 'was',\n",
       " 'the',\n",
       " 'exception',\n",
       " 'and',\n",
       " 'the',\n",
       " 'accident',\n",
       " 'a',\n",
       " 'blot',\n",
       " 'of',\n",
       " 'black',\n",
       " 'upon',\n",
       " 'a',\n",
       " 'world',\n",
       " 'of',\n",
       " 'crimson',\n",
       " 'and',\n",
       " 'gold.']"
      ]
     },
     "execution_count": 29,
     "metadata": {},
     "output_type": "execute_result"
    }
   ],
   "source": [
    "# Average Letter Count per word\n",
    "\n",
    "split_passage"
   ]
  },
  {
   "cell_type": "code",
   "execution_count": 34,
   "metadata": {},
   "outputs": [
    {
     "data": {
      "text/plain": [
       "4.6"
      ]
     },
     "execution_count": 34,
     "metadata": {},
     "output_type": "execute_result"
    }
   ],
   "source": [
    "word_count_sen = [len(i) for i in split_passage]\n",
    "word_sum = sum(word_count_sen)\n",
    "avg_letters = round(word_sum/word_count,1)\n",
    "avg_letters"
   ]
  },
  {
   "cell_type": "code",
   "execution_count": 53,
   "metadata": {},
   "outputs": [
    {
     "data": {
      "text/plain": [
       "[\"Adam Wayne, the conqueror, with his face flung back and his mane like a lion's, stood with his great sword point upwards, the red raiment of his office flapping around him like the red wings of an archangel.\",\n",
       " 'And the King saw, he knew not how, something new and overwhelming.',\n",
       " 'The great green trees and the great red robes swung together in the wind.',\n",
       " 'The preposterous masquerade, born of his own mockery, towered over him and embraced the world.',\n",
       " 'This was the normal, this was sanity, this was nature, and he himself, with his rationality, and his detachment and his black frock-coat, he was the exception and the accident a blot of black upon a world of crimson and gold.']"
      ]
     },
     "execution_count": 53,
     "metadata": {},
     "output_type": "execute_result"
    }
   ],
   "source": [
    "#Average Sentence length\n",
    "\n",
    "import re\n",
    "sentence_split = re.split(\"(?<=[.!?]) +\", passage)\n",
    "sentence_split"
   ]
  },
  {
   "cell_type": "code",
   "execution_count": 54,
   "metadata": {},
   "outputs": [
    {
     "data": {
      "text/plain": [
       "24.0"
      ]
     },
     "execution_count": 54,
     "metadata": {},
     "output_type": "execute_result"
    }
   ],
   "source": [
    "sen_word_count = []\n",
    "for item in sentence_split:\n",
    "    sen_word_count.append(len(item.split()))\n",
    "    \n",
    "avg_sen_words = sum(sen_word_count)/sen_count\n",
    "avg_sen_words"
   ]
  },
  {
   "cell_type": "code",
   "execution_count": 66,
   "metadata": {},
   "outputs": [
    {
     "data": {
      "text/plain": [
       "30"
      ]
     },
     "execution_count": 66,
     "metadata": {},
     "output_type": "execute_result"
    }
   ],
   "source": [
    "text_file = open(\"paragraph results.txt\", \"w\")\n",
    "text_file.write(f'Paragraph Analysis\\n')\n",
    "text_file.write(f'-----------------\\n')\n",
    "text_file.write(f'Approximate Word Count: {word_count}\\n')\n",
    "text_file.write(f'Approximate Sentence Count: {sen_count}\\n')\n",
    "text_file.write(f'Average Letter Count: {avg_letters}\\n')\n",
    "text_file.write(f'Average Sentence Length: {avg_sen_words}\\n')"
   ]
  },
  {
   "cell_type": "code",
   "execution_count": null,
   "metadata": {},
   "outputs": [],
   "source": []
  }
 ],
 "metadata": {
  "kernelspec": {
   "display_name": "Python 3",
   "language": "python",
   "name": "python3"
  },
  "language_info": {
   "codemirror_mode": {
    "name": "ipython",
    "version": 3
   },
   "file_extension": ".py",
   "mimetype": "text/x-python",
   "name": "python",
   "nbconvert_exporter": "python",
   "pygments_lexer": "ipython3",
   "version": "3.7.3"
  }
 },
 "nbformat": 4,
 "nbformat_minor": 2
}
